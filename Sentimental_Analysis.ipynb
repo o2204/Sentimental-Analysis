{
  "nbformat": 4,
  "nbformat_minor": 0,
  "metadata": {
    "colab": {
      "provenance": []
    },
    "kernelspec": {
      "name": "python3",
      "display_name": "Python 3"
    },
    "language_info": {
      "name": "python"
    }
  },
  "cells": [
    {
      "cell_type": "markdown",
      "source": [
        "## Imports"
      ],
      "metadata": {
        "id": "M0VYCgL6uWDW"
      }
    },
    {
      "cell_type": "code",
      "execution_count": null,
      "metadata": {
        "colab": {
          "base_uri": "https://localhost:8080/"
        },
        "id": "F3McYsIYt_C8",
        "outputId": "b611400d-c9ac-4ae3-e3d8-916a533a39d0"
      },
      "outputs": [
        {
          "output_type": "stream",
          "name": "stderr",
          "text": [
            "[nltk_data] Downloading package punkt to /root/nltk_data...\n",
            "[nltk_data]   Package punkt is already up-to-date!\n",
            "[nltk_data] Downloading package wordnet to /root/nltk_data...\n",
            "[nltk_data]   Package wordnet is already up-to-date!\n",
            "[nltk_data] Downloading package stopwords to /root/nltk_data...\n",
            "[nltk_data]   Package stopwords is already up-to-date!\n",
            "[nltk_data] Downloading package twitter_samples to /root/nltk_data...\n",
            "[nltk_data]   Package twitter_samples is already up-to-date!\n",
            "[nltk_data] Downloading package averaged_perceptron_tagger_eng to\n",
            "[nltk_data]     /root/nltk_data...\n",
            "[nltk_data]   Package averaged_perceptron_tagger_eng is already up-to-\n",
            "[nltk_data]       date!\n"
          ]
        },
        {
          "output_type": "execute_result",
          "data": {
            "text/plain": [
              "True"
            ]
          },
          "metadata": {},
          "execution_count": 1
        }
      ],
      "source": [
        "import nltk, re, string, random\n",
        "from nltk.tag import pos_tag\n",
        "from nltk.corpus import twitter_samples, stopwords\n",
        "from nltk.stem.wordnet import WordNetLemmatizer\n",
        "from nltk.tokenize import word_tokenize\n",
        "from nltk import FreqDist, classify, NaiveBayesClassifier\n",
        "nltk.download('punkt')\n",
        "nltk.download('wordnet')\n",
        "nltk.download('stopwords')\n",
        "nltk.download('twitter_samples')\n",
        "nltk.download('averaged_perceptron_tagger_eng')"
      ]
    },
    {
      "cell_type": "markdown",
      "source": [
        "## Load Data"
      ],
      "metadata": {
        "id": "etNssxSFwApx"
      }
    },
    {
      "cell_type": "code",
      "source": [
        "positive_tweets = twitter_samples.strings('positive_tweets.json')\n",
        "negative_tweets = twitter_samples.strings('negative_tweets.json')\n",
        "\n",
        "text = twitter_samples.strings('tweets.20150430-223406.json')\n",
        "tokens = twitter_samples.tokenized('positive_tweets.json')"
      ],
      "metadata": {
        "id": "KskDAl9tva5O"
      },
      "execution_count": null,
      "outputs": []
    },
    {
      "cell_type": "code",
      "source": [
        "positive_tweets[0]"
      ],
      "metadata": {
        "colab": {
          "base_uri": "https://localhost:8080/",
          "height": 53
        },
        "id": "O3__pGHxwicE",
        "outputId": "99afc1cb-cbd7-4553-8cd4-879dd8a14191"
      },
      "execution_count": null,
      "outputs": [
        {
          "output_type": "execute_result",
          "data": {
            "text/plain": [
              "'#FollowFriday @France_Inte @PKuchly57 @Milipol_Paris for being top engaged members in my community this week :)'"
            ],
            "application/vnd.google.colaboratory.intrinsic+json": {
              "type": "string"
            }
          },
          "metadata": {},
          "execution_count": 3
        }
      ]
    },
    {
      "cell_type": "code",
      "source": [
        "tokens[0]"
      ],
      "metadata": {
        "colab": {
          "base_uri": "https://localhost:8080/"
        },
        "id": "bCA5-UyLw5De",
        "outputId": "240a7980-bfa0-48b3-dc2b-dab896944316"
      },
      "execution_count": null,
      "outputs": [
        {
          "output_type": "execute_result",
          "data": {
            "text/plain": [
              "['#FollowFriday',\n",
              " '@France_Inte',\n",
              " '@PKuchly57',\n",
              " '@Milipol_Paris',\n",
              " 'for',\n",
              " 'being',\n",
              " 'top',\n",
              " 'engaged',\n",
              " 'members',\n",
              " 'in',\n",
              " 'my',\n",
              " 'community',\n",
              " 'this',\n",
              " 'week',\n",
              " ':)']"
            ]
          },
          "metadata": {},
          "execution_count": 4
        }
      ]
    },
    {
      "cell_type": "code",
      "source": [
        "negative_tweets[4]"
      ],
      "metadata": {
        "colab": {
          "base_uri": "https://localhost:8080/",
          "height": 35
        },
        "id": "i0VM901UwmFF",
        "outputId": "eac6fd27-0f06-44d1-e853-a3976c9ac944"
      },
      "execution_count": null,
      "outputs": [
        {
          "output_type": "execute_result",
          "data": {
            "text/plain": [
              "'Dang starting next week I have \"work\" :('"
            ],
            "application/vnd.google.colaboratory.intrinsic+json": {
              "type": "string"
            }
          },
          "metadata": {},
          "execution_count": 5
        }
      ]
    },
    {
      "cell_type": "code",
      "source": [
        "len(positive_tweets),len(negative_tweets)"
      ],
      "metadata": {
        "colab": {
          "base_uri": "https://localhost:8080/"
        },
        "id": "pjI0ykJTwt59",
        "outputId": "e6328f5e-ef32-46ad-d19c-6279c4c2ef11"
      },
      "execution_count": null,
      "outputs": [
        {
          "output_type": "execute_result",
          "data": {
            "text/plain": [
              "(5000, 5000)"
            ]
          },
          "metadata": {},
          "execution_count": 6
        }
      ]
    },
    {
      "cell_type": "code",
      "source": [
        "text[0] #Doesn't Classify"
      ],
      "metadata": {
        "colab": {
          "base_uri": "https://localhost:8080/",
          "height": 53
        },
        "id": "uJ5RMW2BwzrD",
        "outputId": "6a480f53-e2c1-482c-e19a-4b51ca217ad3"
      },
      "execution_count": null,
      "outputs": [
        {
          "output_type": "execute_result",
          "data": {
            "text/plain": [
              "'RT @KirkKus: Indirect cost of the UK being in the EU is estimated to be costing Britain £170 billion per year! #BetterOffOut #UKIP'"
            ],
            "application/vnd.google.colaboratory.intrinsic+json": {
              "type": "string"
            }
          },
          "metadata": {},
          "execution_count": 7
        }
      ]
    },
    {
      "cell_type": "markdown",
      "source": [
        "## PreProcessing"
      ],
      "metadata": {
        "id": "98yS9PSlmRKn"
      }
    },
    {
      "cell_type": "code",
      "source": [
        "#POS Tagging  --> take tokenize as a argument\n",
        "pos_tag(tokens[0])"
      ],
      "metadata": {
        "colab": {
          "base_uri": "https://localhost:8080/"
        },
        "id": "nZ5Ark8exKtj",
        "outputId": "52efb84f-4ac1-4010-fdf2-b5c5436cd3a6"
      },
      "execution_count": null,
      "outputs": [
        {
          "output_type": "execute_result",
          "data": {
            "text/plain": [
              "[('#FollowFriday', 'JJ'),\n",
              " ('@France_Inte', 'NNP'),\n",
              " ('@PKuchly57', 'NNP'),\n",
              " ('@Milipol_Paris', 'NNP'),\n",
              " ('for', 'IN'),\n",
              " ('being', 'VBG'),\n",
              " ('top', 'JJ'),\n",
              " ('engaged', 'VBN'),\n",
              " ('members', 'NNS'),\n",
              " ('in', 'IN'),\n",
              " ('my', 'PRP$'),\n",
              " ('community', 'NN'),\n",
              " ('this', 'DT'),\n",
              " ('week', 'NN'),\n",
              " (':)', 'NN')]"
            ]
          },
          "metadata": {},
          "execution_count": 8
        }
      ]
    },
    {
      "cell_type": "code",
      "source": [
        "#Using Lemmatizer to get the base form (e.g. running --> run)\n",
        "def lemmatize_sentence(tokens):\n",
        "    lemmatizer = WordNetLemmatizer()\n",
        "    lemmatized_sentence = []\n",
        "\n",
        "    for word,tag in pos_tag(tokens):\n",
        "        if tag.startswith('NN'):\n",
        "            pos = 'n'\n",
        "        elif tag.startswith('VB'):\n",
        "            pos = 'v'\n",
        "        else:\n",
        "            pos = 'a'\n",
        "        lemmatized_sentence.append(lemmatizer.lemmatize(word,pos))\n",
        "    return lemmatized_sentence"
      ],
      "metadata": {
        "id": "jUUB_SPuxndC"
      },
      "execution_count": null,
      "outputs": []
    },
    {
      "cell_type": "code",
      "source": [
        "print('Real Word:      ',tokens[0])\n",
        "print('Lemmatize Word: ',lemmatize_sentence(tokens[0]))"
      ],
      "metadata": {
        "colab": {
          "base_uri": "https://localhost:8080/"
        },
        "id": "U8HAC96BzvS9",
        "outputId": "a3798d12-d041-4bdd-f570-3ccb0bac2a0c"
      },
      "execution_count": null,
      "outputs": [
        {
          "output_type": "stream",
          "name": "stdout",
          "text": [
            "Real Word:       ['#FollowFriday', '@France_Inte', '@PKuchly57', '@Milipol_Paris', 'for', 'being', 'top', 'engaged', 'members', 'in', 'my', 'community', 'this', 'week', ':)']\n",
            "Lemmatize Word:  ['#FollowFriday', '@France_Inte', '@PKuchly57', '@Milipol_Paris', 'for', 'be', 'top', 'engage', 'member', 'in', 'my', 'community', 'this', 'week', ':)']\n"
          ]
        }
      ]
    },
    {
      "cell_type": "code",
      "source": [
        "def remove_noise(tweet_tokens):\n",
        "\n",
        "    stop_words = set(stopwords.words('english'))\n",
        "    cleaned_tokens = []\n",
        "\n",
        "    for token, tag in pos_tag(tweet_tokens):\n",
        "\n",
        "        token = re.sub('[^A-Za-z\\s0-9]', '', token )\n",
        "\n",
        "        token = re.sub('http\\S+|www\\.\\S+', '', token)\n",
        "        token = re.sub('@\\w+', '', token)\n",
        "        token = re.sub('\\s+', ' ', token)\n",
        "\n",
        "\n",
        "        if tag.startswith('NN'):\n",
        "            pos = 'n'\n",
        "\n",
        "        elif tag.startswith('VB'):\n",
        "            pos = 'v'\n",
        "\n",
        "        else:\n",
        "            pos = 'a'\n",
        "\n",
        "        lemmatizer = WordNetLemmatizer()\n",
        "        token = lemmatizer.lemmatize(token, pos)\n",
        "\n",
        "        if len(token) > 0 and token not in string.punctuation and token.lower() not in stop_words:\n",
        "\n",
        "            cleaned_tokens.append(token.lower())\n",
        "\n",
        "    return cleaned_tokens"
      ],
      "metadata": {
        "id": "-SqOHCvxgxYG"
      },
      "execution_count": null,
      "outputs": []
    },
    {
      "cell_type": "code",
      "source": [
        "remove_noise(tokens[300])"
      ],
      "metadata": {
        "colab": {
          "base_uri": "https://localhost:8080/"
        },
        "id": "cHxkm6k3gxVa",
        "outputId": "9accaaf0-8a18-4a62-9241-3b50c52214f3"
      },
      "execution_count": null,
      "outputs": [
        {
          "output_type": "execute_result",
          "data": {
            "text/plain": [
              "['stats', 'day', 'arrive', '2', 'new', 'follower', 'unfollowers', 'via']"
            ]
          },
          "metadata": {},
          "execution_count": 12
        }
      ]
    },
    {
      "cell_type": "code",
      "source": [
        "tokens[300]"
      ],
      "metadata": {
        "colab": {
          "base_uri": "https://localhost:8080/"
        },
        "id": "BmhXr00agxSp",
        "outputId": "26dcfe96-c2bd-430b-9d6e-6b690c6b391b"
      },
      "execution_count": null,
      "outputs": [
        {
          "output_type": "execute_result",
          "data": {
            "text/plain": [
              "['Stats',\n",
              " 'for',\n",
              " 'the',\n",
              " 'day',\n",
              " 'have',\n",
              " 'arrived',\n",
              " '.',\n",
              " '2',\n",
              " 'new',\n",
              " 'followers',\n",
              " 'and',\n",
              " 'NO',\n",
              " 'unfollowers',\n",
              " ':)',\n",
              " 'via',\n",
              " 'http://t.co/xxlXs6xYwe',\n",
              " '.']"
            ]
          },
          "metadata": {},
          "execution_count": 13
        }
      ]
    },
    {
      "cell_type": "code",
      "source": [
        "positive_tweet_tokens = twitter_samples.tokenized('positive_tweets.json')\n",
        "negative_tweet_tokens = twitter_samples.tokenized('negative_tweets.json')"
      ],
      "metadata": {
        "id": "CnCdYogQiOgw"
      },
      "execution_count": null,
      "outputs": []
    },
    {
      "cell_type": "code",
      "source": [
        "positive_cleaned_tokens_list = []\n",
        "negative_cleaned_tokens_list = []\n",
        "\n",
        "\n",
        "for tokens in positive_tweet_tokens:\n",
        "\n",
        "    positive_cleaned_tokens_list.append(remove_noise(tokens))\n",
        "\n",
        "for tokens in negative_tweet_tokens:\n",
        "\n",
        "    negative_cleaned_tokens_list.append(remove_noise(tokens))"
      ],
      "metadata": {
        "id": "Rt-DSP-TgxQE"
      },
      "execution_count": null,
      "outputs": []
    },
    {
      "cell_type": "code",
      "source": [
        "positive_tweet_tokens[500], positive_cleaned_tokens_list[500]"
      ],
      "metadata": {
        "colab": {
          "base_uri": "https://localhost:8080/"
        },
        "id": "HaX_X1fOgxNK",
        "outputId": "bb3b512a-0f95-4e2d-addc-370fc10a6cf1"
      },
      "execution_count": null,
      "outputs": [
        {
          "output_type": "execute_result",
          "data": {
            "text/plain": [
              "(['Dang',\n",
              "  'that',\n",
              "  'is',\n",
              "  'some',\n",
              "  'rad',\n",
              "  '@AbzuGame',\n",
              "  '#fanart',\n",
              "  '!',\n",
              "  ':D',\n",
              "  'https://t.co/bI8k8tb9ht'],\n",
              " ['dang', 'rad', 'abzugame', 'fanart'])"
            ]
          },
          "metadata": {},
          "execution_count": 16
        }
      ]
    },
    {
      "cell_type": "code",
      "source": [
        "def get_all_words(cleaned_tokens_list):\n",
        "\n",
        "    for tokens in cleaned_tokens_list:\n",
        "        for token in tokens:\n",
        "            yield token\n",
        "all_pos_words = get_all_words(positive_cleaned_tokens_list)"
      ],
      "metadata": {
        "id": "EYAF8PY7gxKU"
      },
      "execution_count": null,
      "outputs": []
    },
    {
      "cell_type": "code",
      "source": [
        "all_pos_words"
      ],
      "metadata": {
        "colab": {
          "base_uri": "https://localhost:8080/"
        },
        "id": "rMAnT55HjgL0",
        "outputId": "b26001af-6fb5-459a-c09e-9a3abda7d605"
      },
      "execution_count": null,
      "outputs": [
        {
          "output_type": "execute_result",
          "data": {
            "text/plain": [
              "<generator object get_all_words at 0x7f5a73b66180>"
            ]
          },
          "metadata": {},
          "execution_count": 19
        }
      ]
    },
    {
      "cell_type": "code",
      "source": [
        "feq_dist_pos = FreqDist(all_pos_words)\n",
        "print(feq_dist_pos.most_common(10))"
      ],
      "metadata": {
        "colab": {
          "base_uri": "https://localhost:8080/"
        },
        "id": "6qZaxVmYj2Hr",
        "outputId": "05be89b1-0ccb-448b-eac5-2b96f8f18aa8"
      },
      "execution_count": null,
      "outputs": [
        {
          "output_type": "stream",
          "name": "stdout",
          "text": [
            "[('thanks', 389), ('follow', 361), ('love', 335), ('good', 283), ('get', 263), ('thank', 253), ('u', 245), ('day', 242), ('im', 237), ('like', 229)]\n"
          ]
        }
      ]
    },
    {
      "cell_type": "code",
      "source": [
        "def get_tweets_for_model(cleaned_tokens_list):\n",
        "\n",
        "\n",
        "    for tweet_tokens in cleaned_tokens_list:\n",
        "            yield dict(  [token, True] for token in tweet_tokens  )\n",
        "\n",
        "\n",
        "positive_tokens_for_model = get_tweets_for_model(positive_cleaned_tokens_list)\n",
        "negative_tokens_for_model = get_tweets_for_model(negative_cleaned_tokens_list)"
      ],
      "metadata": {
        "id": "HYG4e8sdkg8I"
      },
      "execution_count": null,
      "outputs": []
    },
    {
      "cell_type": "code",
      "source": [
        "positive_tokens_for_model"
      ],
      "metadata": {
        "colab": {
          "base_uri": "https://localhost:8080/"
        },
        "id": "sQJ1z7yfk9p5",
        "outputId": "8d9a3c66-0ddc-46a8-a96c-5b94cd9e547f"
      },
      "execution_count": null,
      "outputs": [
        {
          "output_type": "execute_result",
          "data": {
            "text/plain": [
              "<generator object get_tweets_for_model at 0x7f5a61897e60>"
            ]
          },
          "metadata": {},
          "execution_count": 22
        }
      ]
    },
    {
      "cell_type": "code",
      "source": [
        "negative_tokens_for_model"
      ],
      "metadata": {
        "colab": {
          "base_uri": "https://localhost:8080/"
        },
        "id": "0YpQH_ZklCMC",
        "outputId": "6bcd4ebc-337c-486b-ec89-4e958012cf77"
      },
      "execution_count": null,
      "outputs": [
        {
          "output_type": "execute_result",
          "data": {
            "text/plain": [
              "<generator object get_tweets_for_model at 0x7f5a61897840>"
            ]
          },
          "metadata": {},
          "execution_count": 23
        }
      ]
    },
    {
      "cell_type": "code",
      "source": [
        "positive_dataset = [ (tweet_dict,\"Positive\") for tweet_dict in positive_tokens_for_model]\n",
        "negative_dataset = [ (tweet_dict,\"Negative\") for tweet_dict in negative_tokens_for_model]"
      ],
      "metadata": {
        "id": "_x8-nKNylDcO"
      },
      "execution_count": null,
      "outputs": []
    },
    {
      "cell_type": "code",
      "source": [
        "dataset = positive_dataset + negative_dataset\n",
        "random.shuffle(dataset)"
      ],
      "metadata": {
        "id": "E6t8dOcAlisM"
      },
      "execution_count": null,
      "outputs": []
    },
    {
      "cell_type": "code",
      "source": [
        "dataset[10]"
      ],
      "metadata": {
        "colab": {
          "base_uri": "https://localhost:8080/"
        },
        "id": "KjVUqmnMlnsx",
        "outputId": "11009cf9-df62-41d4-8952-ad0d5f0b71e4"
      },
      "execution_count": null,
      "outputs": [
        {
          "output_type": "execute_result",
          "data": {
            "text/plain": [
              "({'guevarawr': True,\n",
              "  'pretty': True,\n",
              "  'sure': True,\n",
              "  'drown': True,\n",
              "  'ice': True,\n",
              "  'cream': True},\n",
              " 'Negative')"
            ]
          },
          "metadata": {},
          "execution_count": 27
        }
      ]
    },
    {
      "cell_type": "markdown",
      "source": [
        "## Build Model"
      ],
      "metadata": {
        "id": "oiDQfy9YmKrx"
      }
    },
    {
      "cell_type": "code",
      "source": [
        "train_data = dataset[:7000]\n",
        "test_data = dataset[7000:]"
      ],
      "metadata": {
        "id": "ixDvuf0Ol0oC"
      },
      "execution_count": null,
      "outputs": []
    },
    {
      "cell_type": "code",
      "source": [
        "classifir = NaiveBayesClassifier.train(train_data)"
      ],
      "metadata": {
        "id": "sgW-Eqs4mU8V"
      },
      "execution_count": null,
      "outputs": []
    },
    {
      "cell_type": "markdown",
      "source": [
        "## Evaluate"
      ],
      "metadata": {
        "id": "FO-7H-qkmq2Z"
      }
    },
    {
      "cell_type": "code",
      "source": [
        "classify.accuracy(classifir,test_data)"
      ],
      "metadata": {
        "colab": {
          "base_uri": "https://localhost:8080/"
        },
        "id": "ADL3wQRomY-c",
        "outputId": "a996e363-f54d-477e-afe8-85c34e5510a6"
      },
      "execution_count": null,
      "outputs": [
        {
          "output_type": "execute_result",
          "data": {
            "text/plain": [
              "0.7516666666666667"
            ]
          },
          "metadata": {},
          "execution_count": 30
        }
      ]
    },
    {
      "cell_type": "code",
      "source": [
        "classifir.show_most_informative_features(10)"
      ],
      "metadata": {
        "colab": {
          "base_uri": "https://localhost:8080/"
        },
        "id": "SmTPE2trmgh5",
        "outputId": "fe918677-6bb9-4f7b-8a9a-070098d2df8b"
      },
      "execution_count": null,
      "outputs": [
        {
          "output_type": "stream",
          "name": "stdout",
          "text": [
            "Most Informative Features\n",
            "                follower = True           Positi : Negati =     38.5 : 1.0\n",
            "                     sad = True           Negati : Positi =     25.3 : 1.0\n",
            "                      ff = True           Positi : Negati =     24.0 : 1.0\n",
            "                     bam = True           Positi : Negati =     22.7 : 1.0\n",
            "                  arrive = True           Positi : Negati =     19.1 : 1.0\n",
            "                     pls = True           Negati : Positi =     18.6 : 1.0\n",
            "                       p = True           Positi : Negati =     18.6 : 1.0\n",
            "               community = True           Positi : Negati =     16.1 : 1.0\n",
            "                followed = True           Negati : Positi =     15.6 : 1.0\n",
            "              appreciate = True           Positi : Negati =     15.5 : 1.0\n"
          ]
        }
      ]
    },
    {
      "cell_type": "markdown",
      "source": [
        "## Predict"
      ],
      "metadata": {
        "id": "D3xNYLimm1-M"
      }
    },
    {
      "cell_type": "code",
      "source": [
        "random_tweet = \"@omar I'm happy to connect you!\"\n",
        "cleaning = remove_noise(word_tokenize(random_tweet))\n",
        "\n",
        "print(cleaning)\n",
        "print(classifir.classify( dict([token, True] for token in  cleaning )))"
      ],
      "metadata": {
        "colab": {
          "base_uri": "https://localhost:8080/"
        },
        "id": "vPcxOuONmkm-",
        "outputId": "bc1d5907-3e12-42d9-fe81-a447b1f904e4"
      },
      "execution_count": null,
      "outputs": [
        {
          "output_type": "stream",
          "name": "stdout",
          "text": [
            "['omar', 'happy', 'connect']\n",
            "Positive\n"
          ]
        }
      ]
    },
    {
      "cell_type": "code",
      "source": [
        "random_tweet = \"I'm very upsate\"\n",
        "cleaning = remove_noise(word_tokenize(random_tweet))\n",
        "\n",
        "print(cleaning)\n",
        "print(classifir.classify( dict([token, True] for token in  cleaning )))"
      ],
      "metadata": {
        "colab": {
          "base_uri": "https://localhost:8080/"
        },
        "id": "kPUvj95vnYFr",
        "outputId": "29b82733-fcc6-40b7-dc83-d6c963ad8307"
      },
      "execution_count": null,
      "outputs": [
        {
          "output_type": "stream",
          "name": "stdout",
          "text": [
            "['upsate']\n",
            "Positive\n"
          ]
        }
      ]
    },
    {
      "cell_type": "code",
      "source": [],
      "metadata": {
        "id": "suKrauXhnpCf"
      },
      "execution_count": null,
      "outputs": []
    }
  ]
}